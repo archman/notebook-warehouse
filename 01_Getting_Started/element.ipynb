{
 "cells": [
  {
   "cell_type": "markdown",
   "metadata": {},
   "source": [
    "## Element"
   ]
  },
  {
   "cell_type": "markdown",
   "metadata": {},
   "source": [
    "### Import modules/packages"
   ]
  },
  {
   "cell_type": "code",
   "execution_count": 35,
   "metadata": {},
   "outputs": [],
   "source": [
    "import phantasy\n",
    "import time"
   ]
  },
  {
   "cell_type": "markdown",
   "metadata": {},
   "source": [
    "### Model Machine"
   ]
  },
  {
   "cell_type": "code",
   "execution_count": 3,
   "metadata": {},
   "outputs": [
    {
     "name": "stderr",
     "output_type": "stream",
     "text": [
      "[2019-07-25T16:30:09.327] INFO: phantasy.library.operation.core: Load new machine: 'FRIB_VA', segment: 'LEBT'\n",
      "[2019-07-25T16:30:09.329] INFO: phantasy.library.parser.config: Importing 'FRIB_VA' from '/home/tong/Dropbox/FRIB/work/phantasy-project/phantasy-machines/FRIB_VA'\n",
      "[2019-07-25T16:30:09.331] INFO: phantasy.library.parser.config: Loading machine configuration file: /home/tong/Dropbox/FRIB/work/phantasy-project/phantasy-machines/FRIB_VA/phantasy.ini\n",
      "[2019-07-25T16:30:09.333] INFO: phantasy.library.operation.lattice: Loading segment: 'LEBT'\n",
      "[2019-07-25T16:30:09.371] WARNING: phantasy.library.operation.lattice: Default UNICORN policy will be applied.\n",
      "[2019-07-25T16:30:09.373] INFO: phantasy.library.operation.lattice: Loading PV data from CSV/SQLite: /home/tong/Dropbox/FRIB/work/phantasy-project/phantasy-machines/FRIB_VA/lebt/channels.csv\n",
      "[2019-07-25T16:30:09.375] INFO: phantasy.library.pv.datasource: Set source to be CSV table: channels.csv.\n",
      "[2019-07-25T16:30:09.402] INFO: phantasy.library.operation.lattice: Model data directory: /home/tong/phantasy_data/20190725/model_data/data_163009\n",
      "[2019-07-25T16:30:09.407] INFO: phantasy.library.operation.lattice: Found 325 PVs in 'LEBT'.\n",
      "[2019-07-25T16:30:09.655] INFO: phantasy.library.operation.lattice: 'LEBT' has 87 elements\n"
     ]
    }
   ],
   "source": [
    "mp = phantasy.MachinePortal(machine='FRIB_VA', segment='LEBT')"
   ]
  },
  {
   "cell_type": "markdown",
   "metadata": {
    "collapsed": true
   },
   "source": [
    "### Get Element by *type*"
   ]
  },
  {
   "cell_type": "code",
   "execution_count": 4,
   "metadata": {},
   "outputs": [
    {
     "data": {
      "text/plain": [
       "['BCM',\n",
       " 'VD',\n",
       " 'EQUAD',\n",
       " 'HCOR',\n",
       " 'SOL',\n",
       " 'CAV',\n",
       " 'VCOR',\n",
       " 'FC',\n",
       " 'BEND',\n",
       " 'EBEND',\n",
       " 'PM']"
      ]
     },
     "execution_count": 4,
     "metadata": {},
     "output_type": "execute_result"
    }
   ],
   "source": [
    "mp.get_all_types()"
   ]
  },
  {
   "cell_type": "markdown",
   "metadata": {},
   "source": [
    "#### Example: Electric static Quadrupole"
   ]
  },
  {
   "cell_type": "markdown",
   "metadata": {},
   "source": [
    "##### Get the first equad"
   ]
  },
  {
   "cell_type": "code",
   "execution_count": 5,
   "metadata": {},
   "outputs": [],
   "source": [
    "equads = mp.get_elements(type='EQUAD')"
   ]
  },
  {
   "cell_type": "code",
   "execution_count": 6,
   "metadata": {},
   "outputs": [
    {
     "data": {
      "text/plain": [
       "[FE_SCS1:QHE_D0726 [EQUAD] @ sb=2.555154,\n",
       " FE_SCS1:QVE_D0730 [EQUAD] @ sb=2.890154,\n",
       " FE_SCS1:QHE_D0733 [EQUAD] @ sb=3.225154,\n",
       " FE_SCS1:QHE_D0743 [EQUAD] @ sb=4.185154,\n",
       " FE_SCS1:QVE_D0746 [EQUAD] @ sb=4.520154,\n",
       " FE_SCS1:QHE_D0749 [EQUAD] @ sb=4.855154,\n",
       " FE_LEBT:QVE_D0767 [EQUAD] @ sb=6.630154,\n",
       " FE_LEBT:QHE_D0770 [EQUAD] @ sb=6.965154,\n",
       " FE_LEBT:QHE_D0776 [EQUAD] @ sb=7.560154,\n",
       " FE_LEBT:QVE_D0780 [EQUAD] @ sb=7.895154,\n",
       " FE_LEBT:QHE_D0844 [EQUAD] @ sb=14.370455,\n",
       " FE_LEBT:QVE_D0848 [EQUAD] @ sb=14.705455,\n",
       " FE_LEBT:QHE_D0851 [EQUAD] @ sb=15.040455,\n",
       " FE_LEBT:QVE_D0871 [EQUAD] @ sb=17.019205,\n",
       " FE_LEBT:QHE_D0874 [EQUAD] @ sb=17.354205,\n",
       " FE_LEBT:QVE_D0878 [EQUAD] @ sb=17.689205,\n",
       " FE_LEBT:QVE_D0891 [EQUAD] @ sb=19.049205,\n",
       " FE_LEBT:QHE_D0895 [EQUAD] @ sb=19.384205,\n",
       " FE_LEBT:QVE_D0898 [EQUAD] @ sb=19.719205,\n",
       " FE_LEBT:QHE_D0918 [EQUAD] @ sb=21.697955,\n",
       " FE_LEBT:QVE_D0921 [EQUAD] @ sb=22.032955,\n",
       " FE_LEBT:QHE_D0924 [EQUAD] @ sb=22.367955]"
      ]
     },
     "execution_count": 6,
     "metadata": {},
     "output_type": "execute_result"
    }
   ],
   "source": [
    "equads"
   ]
  },
  {
   "cell_type": "code",
   "execution_count": 7,
   "metadata": {},
   "outputs": [
    {
     "data": {
      "text/plain": [
       "FE_SCS1:QHE_D0726 [EQUAD] @ sb=2.555154"
      ]
     },
     "execution_count": 7,
     "metadata": {},
     "output_type": "execute_result"
    }
   ],
   "source": [
    "# first equad\n",
    "equad0 = equads[0]\n",
    "equad0"
   ]
  },
  {
   "cell_type": "markdown",
   "metadata": {},
   "source": [
    "##### Investigate the equad"
   ]
  },
  {
   "cell_type": "code",
   "execution_count": 8,
   "metadata": {},
   "outputs": [
    {
     "name": "stdout",
     "output_type": "stream",
     "text": [
      "Index    : 15\n",
      "Name     : FE_SCS1:QHE_D0726\n",
      "Family   : EQUAD\n",
      "Location : (begin) 2.555154 (end) 2.760354\n",
      "Length   : 0.205200\n",
      "Groups   : set(['EQUAD'])\n",
      "PVs      : [u'VA:FE_SCS1:QE_D0726:V_CSET', u'VA:FE_SCS1:QE_D0726:V_RSET', u'VA:FE_SCS1:QE_D0726:V_RD']\n",
      "Tags     : {u'VA:FE_SCS1:QE_D0726:V_CSET': set(['phantasy.sub.SCS1', 'LEBT', 'phantasy.sys.FE']), u'VA:FE_SCS1:QE_D0726:V_RSET': set(['phantasy.sub.SCS1', 'LEBT', 'phantasy.sys.FE']), u'VA:FE_SCS1:QE_D0726:V_RD': set(['phantasy.sub.SCS1', 'LEBT', 'phantasy.sys.FE'])}\n",
      "Fields   : ['V']\n"
     ]
    }
   ],
   "source": [
    "print(\"Index    : %d\" % equad0.index)\n",
    "print(\"Name     : %s\" % equad0.name)\n",
    "print(\"Family   : %s\" % equad0.family)\n",
    "print(\"Location : (begin) %f (end) %f\" % (equad0.sb, equad0.se))\n",
    "print(\"Length   : %f\" % equad0.length)\n",
    "print(\"Groups   : %s\" % equad0.group)\n",
    "print(\"PVs      : %s\" % equad0.pv())\n",
    "print(\"Tags     : %s\" % equad0.tags)\n",
    "print(\"Fields   : %s\" % equad0.fields)"
   ]
  },
  {
   "cell_type": "markdown",
   "metadata": {},
   "source": [
    "##### Dynamic field: V\n",
    "All available dynamic fields could be retrieved by ``equad0.fields`` (for ``equad0`` here, there is only one field, i.e. ``V``)."
   ]
  },
  {
   "cell_type": "code",
   "execution_count": 12,
   "metadata": {},
   "outputs": [
    {
     "data": {
      "text/plain": [
       "3989.173663886624"
      ]
     },
     "execution_count": 12,
     "metadata": {},
     "output_type": "execute_result"
    }
   ],
   "source": [
    "equad0.V"
   ]
  },
  {
   "cell_type": "markdown",
   "metadata": {},
   "source": [
    "**Get values**\n",
    "\n",
    "If only *readback* value is of interest, **Approach 1** is recommanded and most natural."
   ]
  },
  {
   "cell_type": "code",
   "execution_count": 13,
   "metadata": {},
   "outputs": [
    {
     "name": "stdout",
     "output_type": "stream",
     "text": [
      "Readback: 3988.493476\n"
     ]
    }
   ],
   "source": [
    "# Approach 1: dynamic field feature (readback PV)\n",
    "print(\"Readback: %f\" % equad0.V)"
   ]
  },
  {
   "cell_type": "code",
   "execution_count": 17,
   "metadata": {},
   "outputs": [
    {
     "name": "stdout",
     "output_type": "stream",
     "text": [
      "Readback: 3984.29025263\n"
     ]
    }
   ],
   "source": [
    "# Approach 2: caget(pv_name)\n",
    "pv_rdbk = equad0.pv(field='V', handle='readback')[0]\n",
    "print(\"Readback: %s\" % phantasy.caget(pv_rdbk))"
   ]
  },
  {
   "cell_type": "code",
   "execution_count": 22,
   "metadata": {},
   "outputs": [
    {
     "name": "stdout",
     "output_type": "stream",
     "text": [
      "Readback: 3988.281600\n",
      "Setpoint: 3985.560000\n",
      "Readset : 3985.560000\n"
     ]
    }
   ],
   "source": [
    "# Approach 3: CaField\n",
    "v_field = equad0.get_field('V')\n",
    "print(\"Readback: %f\" % v_field.get(handle='readback', timeout=1)['mean'][0])\n",
    "print(\"Setpoint: %f\" % v_field.get(handle='setpoint', timeout=1)['mean'][0])\n",
    "print(\"Readset : %f\" % v_field.get(handle='readset', timeout=1)['mean'][0])"
   ]
  },
  {
   "cell_type": "code",
   "execution_count": 23,
   "metadata": {},
   "outputs": [
    {
     "data": {
      "text/plain": [
       "{'data': ([],),\n",
       " 'mean': (3985.1631946159682,),\n",
       " 'std': (0.0,),\n",
       " 'timestamp': ('',)}"
      ]
     },
     "execution_count": 23,
     "metadata": {},
     "output_type": "execute_result"
    }
   ],
   "source": [
    "v_field.get(handle='readback')"
   ]
  },
  {
   "cell_type": "markdown",
   "metadata": {},
   "source": [
    "**Set values**\n",
    "\n",
    "Always **Approach 1** is recommanded."
   ]
  },
  {
   "cell_type": "code",
   "execution_count": 38,
   "metadata": {},
   "outputs": [],
   "source": [
    "# Save orignal set value for 'V' field\n",
    "v0 = equad0.current_setting('V')"
   ]
  },
  {
   "cell_type": "code",
   "execution_count": 39,
   "metadata": {},
   "outputs": [
    {
     "data": {
      "text/plain": [
       "3985.56"
      ]
     },
     "execution_count": 39,
     "metadata": {},
     "output_type": "execute_result"
    }
   ],
   "source": [
    "v0"
   ]
  },
  {
   "cell_type": "code",
   "execution_count": 41,
   "metadata": {},
   "outputs": [
    {
     "name": "stdout",
     "output_type": "stream",
     "text": [
      "1998.94528269\n"
     ]
    }
   ],
   "source": [
    "# Approach 1: dynamic field feature (setpoint PV)\n",
    "equad0.V = 2000\n",
    "time.sleep(2)\n",
    "print(equad0.V)"
   ]
  },
  {
   "cell_type": "code",
   "execution_count": 42,
   "metadata": {},
   "outputs": [
    {
     "name": "stdout",
     "output_type": "stream",
     "text": [
      "3986.66445071\n"
     ]
    }
   ],
   "source": [
    "# restore to v0\n",
    "equad0.V = v0\n",
    "time.sleep(2)\n",
    "print(equad0.V)"
   ]
  }
 ],
 "metadata": {
  "kernelspec": {
   "display_name": "Python 2",
   "language": "python",
   "name": "python2"
  },
  "language_info": {
   "codemirror_mode": {
    "name": "ipython",
    "version": 2
   },
   "file_extension": ".py",
   "mimetype": "text/x-python",
   "name": "python",
   "nbconvert_exporter": "python",
   "pygments_lexer": "ipython2",
   "version": "2.7.15+"
  }
 },
 "nbformat": 4,
 "nbformat_minor": 2
}
